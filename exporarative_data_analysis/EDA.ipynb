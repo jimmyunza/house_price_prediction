{
 "cells": [
  {
   "cell_type": "code",
   "execution_count": 1,
   "metadata": {},
   "outputs": [
    {
     "ename": "ModuleNotFoundError",
     "evalue": "No module named 'analyze'",
     "output_type": "error",
     "traceback": [
      "\u001b[1;31m---------------------------------------------------------------------------\u001b[0m",
      "\u001b[1;31mModuleNotFoundError\u001b[0m                       Traceback (most recent call last)",
      "Cell \u001b[1;32mIn[1], line 6\u001b[0m\n\u001b[0;32m      3\u001b[0m \u001b[38;5;28;01mimport\u001b[39;00m \u001b[38;5;21;01mpandas\u001b[39;00m \u001b[38;5;28;01mas\u001b[39;00m \u001b[38;5;21;01mpd\u001b[39;00m\n\u001b[0;32m      4\u001b[0m \u001b[38;5;28;01mimport\u001b[39;00m \u001b[38;5;21;01mnumpy\u001b[39;00m \u001b[38;5;28;01mas\u001b[39;00m \u001b[38;5;21;01mnp\u001b[39;00m \n\u001b[1;32m----> 6\u001b[0m \u001b[38;5;28;01mfrom\u001b[39;00m \u001b[38;5;21;01manalyze\u001b[39;00m\u001b[38;5;21;01m.\u001b[39;00m\u001b[38;5;21;01mbasic_data_inspection\u001b[39;00m \u001b[38;5;28;01mimport\u001b[39;00m Data_Inspector\n\u001b[0;32m      7\u001b[0m \u001b[38;5;28;01mfrom\u001b[39;00m \u001b[38;5;21;01manalyze\u001b[39;00m\u001b[38;5;21;01m.\u001b[39;00m\u001b[38;5;21;01mbasic_data_inspection\u001b[39;00m \u001b[38;5;28;01mimport\u001b[39;00m Data_Inspection_Strategy\n\u001b[0;32m      8\u001b[0m \u001b[38;5;28;01mfrom\u001b[39;00m \u001b[38;5;21;01manalyze\u001b[39;00m\u001b[38;5;21;01m.\u001b[39;00m\u001b[38;5;21;01mbasic_data_inspection\u001b[39;00m \u001b[38;5;28;01mimport\u001b[39;00m DataTypes_Inspect_Strategy\n",
      "\u001b[1;31mModuleNotFoundError\u001b[0m: No module named 'analyze'"
     ]
    }
   ],
   "source": [
    "# Importing Packages\n",
    "\n",
    "import pandas as pd\n",
    "import numpy as np \n",
    "\n",
    "from analyze.basic_data_inspection import Data_Inspector\n",
    "from analyze.basic_data_inspection import Data_Inspection_Strategy\n",
    "from analyze.basic_data_inspection import DataTypes_Inspect_Strategy\n",
    "\n",
    "from analyze.bivariate_analysis import BivariateAnalysis\n",
    "from analyze.bivariate_analysis import BivariateAnalyzer\n",
    "from analyze.bivariate_analysis import NumericalVsNumerical\n",
    "from analyze.bivariate_analysis import CategoricalVsNumerical\n",
    "\n",
    "from analyze.univariate_analysis import UnivariateAnalyzer\n",
    "from analyze.univariate_analysis import UnivariateAnalysis\n",
    "from analyze.univariate_analysis import CategoricalUnivariate\n",
    "from analyze.univariate_analysis import NumericalUnivariate\n",
    "\n",
    "from analyze.multivariate_analysis import MultivariateAnalysis\n",
    "from analyze.multivariate_analysis import SimpleMultivariateAnalysis\n",
    "\n",
    "from analyze.missing_values import Simple_missing_Value_Analysis\n",
    "from analyze.missing_values import Missing_Values_Analysis_template\n",
    "\n",
    "\n",
    "\n",
    "# Setting Display options\n",
    "\n",
    "pd.set_option('display.max_columns', None)\n",
    "pd.set_option('display.max_rows', 100)"
   ]
  },
  {
   "cell_type": "code",
   "execution_count": null,
   "metadata": {},
   "outputs": [],
   "source": [
    "# Load The data  from extracted_dat\n",
    "\n",
    "data_path = '../extracted_data/data.csv'\n",
    "df = pd.read_csv(data_path)"
   ]
  },
  {
   "cell_type": "code",
   "execution_count": null,
   "metadata": {},
   "outputs": [
    {
     "name": "stdout",
     "output_type": "stream",
     "text": [
      "\n",
      "Data Types and Non-null Counts:\n",
      "<class 'pandas.core.frame.DataFrame'>\n",
      "RangeIndex: 4600 entries, 0 to 4599\n",
      "Data columns (total 18 columns):\n",
      " #   Column         Non-Null Count  Dtype  \n",
      "---  ------         --------------  -----  \n",
      " 0   date           4600 non-null   object \n",
      " 1   price          4600 non-null   float64\n",
      " 2   bedrooms       4600 non-null   float64\n",
      " 3   bathrooms      4600 non-null   float64\n",
      " 4   sqft_living    4600 non-null   int64  \n",
      " 5   sqft_lot       4600 non-null   int64  \n",
      " 6   floors         4600 non-null   float64\n",
      " 7   waterfront     4600 non-null   int64  \n",
      " 8   view           4600 non-null   int64  \n",
      " 9   condition      4600 non-null   int64  \n",
      " 10  sqft_above     4600 non-null   int64  \n",
      " 11  sqft_basement  4600 non-null   int64  \n",
      " 12  yr_built       4600 non-null   int64  \n",
      " 13  yr_renovated   4600 non-null   int64  \n",
      " 14  street         4600 non-null   object \n",
      " 15  city           4600 non-null   object \n",
      " 16  statezip       4600 non-null   object \n",
      " 17  country        4600 non-null   object \n",
      "dtypes: float64(4), int64(9), object(5)\n",
      "memory usage: 647.0+ KB\n",
      "None\n"
     ]
    }
   ],
   "source": [
    "# Basic Data Inspection\n",
    "#-------------------------------\n",
    "data_inspector =Data_Inspector(DataTypes_Inspect_Strategy())\n",
    "data_inspector.execute_inspection(df)"
   ]
  },
  {
   "cell_type": "code",
   "execution_count": null,
   "metadata": {},
   "outputs": [],
   "source": [
    "# Step 2\n",
    "# Missing Valus \n",
    "\n",
    "# perfomrm missing value analysis\n",
    "missing_value_analyzer = Simple_missing_Value_Analysis()\n",
    "missing_value_analyzer.analyze(df)"
   ]
  },
  {
   "cell_type": "code",
   "execution_count": null,
   "metadata": {},
   "outputs": [
    {
     "ename": "NameError",
     "evalue": "name 'UnivariateAnalyzer' is not defined",
     "output_type": "error",
     "traceback": [
      "\u001b[1;31m---------------------------------------------------------------------------\u001b[0m",
      "\u001b[1;31mNameError\u001b[0m                                 Traceback (most recent call last)",
      "Cell \u001b[1;32mIn[1], line 6\u001b[0m\n\u001b[0;32m      1\u001b[0m \u001b[38;5;66;03m# Step 3\u001b[39;00m\n\u001b[0;32m      2\u001b[0m \n\u001b[0;32m      3\u001b[0m \u001b[38;5;66;03m# Univariate Analysis\u001b[39;00m\n\u001b[0;32m      4\u001b[0m \n\u001b[0;32m      5\u001b[0m \u001b[38;5;66;03m#analyze relationship  between 2 numerical features\u001b[39;00m\n\u001b[1;32m----> 6\u001b[0m analyzer \u001b[38;5;241m=\u001b[39m UnivariateAnalyzer(NumericalUnivariate())\n\u001b[0;32m      7\u001b[0m analyzer\u001b[38;5;241m.\u001b[39mexecute_analysis(df, \u001b[38;5;124m'\u001b[39m\u001b[38;5;124mprice\u001b[39m\u001b[38;5;124m'\u001b[39m)\n\u001b[0;32m      9\u001b[0m \u001b[38;5;66;03m#analyze relationship  between categorical and numerical features\u001b[39;00m\n",
      "\u001b[1;31mNameError\u001b[0m: name 'UnivariateAnalyzer' is not defined"
     ]
    }
   ],
   "source": [
    "# Step 3\n",
    "\n",
    "# Univariate Analysis\n",
    "\n",
    "#analyze relationship  between 2 numerical features\n",
    "analyzer = UnivariateAnalyzer(NumericalUnivariate())\n",
    "analyzer.execute_analysis(df, 'price')\n",
    "\n",
    "#analyze relationship  between categorical and numerical features\n",
    "analyzer = UnivariateAnalyzer(CategoricalUnivariate())\n",
    "analyzer.execute_analysis(df,  'street')"
   ]
  },
  {
   "cell_type": "code",
   "execution_count": null,
   "metadata": {},
   "outputs": [],
   "source": [
    "# Step 4 \n",
    "# Bivariate Analysis\n",
    "\n",
    "# analyze relationship  between 2 numerical features\n",
    "analyzer = BivariateAnalyzer(NumericalVsNumerical())\n",
    "analyzer.execute_analysys(df, 'bedrooms', 'price')\n",
    "\n",
    "# analyze relationship  between categorical and numerical features\n",
    "analyzer = BivariateAnalyzer(CategoricalVsNumerical())\n",
    "analyzer.execute_analysys(df, 'city', 'SalePrice')"
   ]
  },
  {
   "cell_type": "code",
   "execution_count": null,
   "metadata": {},
   "outputs": [],
   "source": [
    "#step 5\n",
    "# Multivariate Analyisis\n",
    "\n",
    "# analyze relationship  between 2 numerical features\n",
    "analyzer = SimpleMultivariateAnalysis()\n",
    "features = df[['price', 'bedrooms', 'bathrooms', 'sqft_lot']]\n",
    "analyzer.analyze(features)\n",
    "\n",
    "# Pair Plot  relationship  between  features\n",
    "analyzer = SimpleMultivariateAnalysis()\n",
    "analyzer.analyze(features)"
   ]
  }
 ],
 "metadata": {
  "kernelspec": {
   "display_name": "base",
   "language": "python",
   "name": "python3"
  },
  "language_info": {
   "codemirror_mode": {
    "name": "ipython",
    "version": 3
   },
   "file_extension": ".py",
   "mimetype": "text/x-python",
   "name": "python",
   "nbconvert_exporter": "python",
   "pygments_lexer": "ipython3",
   "version": "3.12.4"
  }
 },
 "nbformat": 4,
 "nbformat_minor": 2
}
